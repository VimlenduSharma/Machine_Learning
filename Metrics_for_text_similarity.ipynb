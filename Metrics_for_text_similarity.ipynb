{
 "cells": [
  {
   "cell_type": "code",
   "execution_count": 3,
   "id": "f6980c3d",
   "metadata": {},
   "outputs": [],
   "source": [
    "import numpy as np\n",
    "def cosine_similarity(vec1, vec2):\n",
    "    \"\"\"Computes the Cosine Similarity between two vectors.\"\"\"\n",
    "    dot_product=np.dot(vec1, vec2)\n",
    "    norm_vec1=np.linalg.norm(vec1)\n",
    "    norm_vec2=np.linalg.norm(vec2)\n",
    "    return dot_product/((norm_vec1)*(norm_vec2))"
   ]
  },
  {
   "cell_type": "code",
   "execution_count": 4,
   "id": "4c9d2454",
   "metadata": {},
   "outputs": [
    {
     "data": {
      "text/plain": [
       "1.0"
      ]
     },
     "execution_count": 4,
     "metadata": {},
     "output_type": "execute_result"
    }
   ],
   "source": [
    "cosine_similarity(2, 3)"
   ]
  },
  {
   "cell_type": "code",
   "execution_count": 5,
   "id": "63e4c430",
   "metadata": {},
   "outputs": [],
   "source": [
    "def cosine_distance(vec1, vec2):\n",
    "    \"\"\"Computes cosine distance between two vectors.\"\"\"\n",
    "    return 1.0-cosine_similarity(vec1, vec2)\n",
    "    "
   ]
  },
  {
   "cell_type": "code",
   "execution_count": 6,
   "id": "5e432c14",
   "metadata": {},
   "outputs": [
    {
     "data": {
      "text/plain": [
       "0.0"
      ]
     },
     "execution_count": 6,
     "metadata": {},
     "output_type": "execute_result"
    }
   ],
   "source": [
    "cosine_distance(2, 3)"
   ]
  },
  {
   "cell_type": "code",
   "execution_count": 7,
   "id": "0e1d8e93",
   "metadata": {},
   "outputs": [],
   "source": [
    "def euclidean_distance(vec1, vec2):\n",
    "    \"\"\"Computes Euclidean distance between two vectors.\"\"\"\n",
    "    return np.sqrt(np.sum((vec1-vec2)**2))"
   ]
  },
  {
   "cell_type": "code",
   "execution_count": 8,
   "id": "4ba3442a",
   "metadata": {},
   "outputs": [
    {
     "data": {
      "text/plain": [
       "2.0"
      ]
     },
     "execution_count": 8,
     "metadata": {},
     "output_type": "execute_result"
    }
   ],
   "source": [
    "euclidean_distance(2, 4)"
   ]
  },
  {
   "cell_type": "code",
   "execution_count": 9,
   "id": "46918934",
   "metadata": {},
   "outputs": [],
   "source": [
    "def manhattan_distance(vec1, vec2):\n",
    "    \"\"\"Computes Manhattan distance between two vectors.\"\"\"\n",
    "    return np.sum(np.abs(vec1-vec2))"
   ]
  },
  {
   "cell_type": "code",
   "execution_count": 10,
   "id": "64be81bb",
   "metadata": {},
   "outputs": [
    {
     "data": {
      "text/plain": [
       "3"
      ]
     },
     "execution_count": 10,
     "metadata": {},
     "output_type": "execute_result"
    }
   ],
   "source": [
    "manhattan_distance(3, 6)"
   ]
  },
  {
   "cell_type": "code",
   "execution_count": 15,
   "id": "7f32f7e8",
   "metadata": {},
   "outputs": [],
   "source": [
    "def jaccard_index(vec1, vec2):\n",
    "    \"\"\"Computes Jaccard index between two vectors.\"\"\"\n",
    "    set1=set(vec1)\n",
    "    set2=set(vec2)\n",
    "    intersection=len(set1.intersection(set2))\n",
    "    union=len(set1.union(set2))\n",
    "    return intersection/union if union!=0 else 0"
   ]
  },
  {
   "cell_type": "code",
   "execution_count": 16,
   "id": "c2093f5b",
   "metadata": {},
   "outputs": [
    {
     "name": "stdout",
     "output_type": "stream",
     "text": [
      "0.75\n"
     ]
    }
   ],
   "source": [
    "vec1=[2, 4, 5, 6, 7, 8, 9, 2, 8]\n",
    "vec2=[2, 4, 5, 6, 7, 8, 2, 1, 4]\n",
    "print(jaccard_index(vec1, vec2))"
   ]
  }
 ],
 "metadata": {
  "kernelspec": {
   "display_name": "Python 3 (ipykernel)",
   "language": "python",
   "name": "python3"
  },
  "language_info": {
   "codemirror_mode": {
    "name": "ipython",
    "version": 3
   },
   "file_extension": ".py",
   "mimetype": "text/x-python",
   "name": "python",
   "nbconvert_exporter": "python",
   "pygments_lexer": "ipython3",
   "version": "3.11.5"
  }
 },
 "nbformat": 4,
 "nbformat_minor": 5
}
