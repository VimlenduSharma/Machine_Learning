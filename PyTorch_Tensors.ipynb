{
 "cells": [
  {
   "cell_type": "code",
   "execution_count": 1,
   "id": "bdbc905d",
   "metadata": {},
   "outputs": [],
   "source": [
    "import torch \n",
    "import math"
   ]
  },
  {
   "cell_type": "code",
   "execution_count": 3,
   "id": "caee0617",
   "metadata": {},
   "outputs": [
    {
     "name": "stdout",
     "output_type": "stream",
     "text": [
      "<class 'torch.Tensor'>\n",
      "tensor([[0., 0., 0., 0.],\n",
      "        [0., 0., 0., 0.],\n",
      "        [0., 0., 0., 0.]])\n"
     ]
    }
   ],
   "source": [
    "x=torch.empty(3, 4) #allocates_memory_for_tensor_but_does_not_initialize_it_with_any_value\n",
    "print(type(x))\n",
    "print(x)"
   ]
  },
  {
   "cell_type": "code",
   "execution_count": 4,
   "id": "284d520a",
   "metadata": {},
   "outputs": [
    {
     "data": {
      "text/plain": [
       "tensor([[0., 0., 0., 0.],\n",
       "        [0., 0., 0., 0.],\n",
       "        [0., 0., 0., 0.]])"
      ]
     },
     "execution_count": 4,
     "metadata": {},
     "output_type": "execute_result"
    }
   ],
   "source": [
    "zeros=torch.zeros(3,4)\n",
    "zeros"
   ]
  },
  {
   "cell_type": "code",
   "execution_count": 5,
   "id": "ae9122ce",
   "metadata": {},
   "outputs": [
    {
     "data": {
      "text/plain": [
       "tensor([[1., 1., 1.],\n",
       "        [1., 1., 1.]])"
      ]
     },
     "execution_count": 5,
     "metadata": {},
     "output_type": "execute_result"
    }
   ],
   "source": [
    "ones=torch.ones(2, 3)\n",
    "ones"
   ]
  },
  {
   "cell_type": "code",
   "execution_count": 9,
   "id": "96c17c26",
   "metadata": {},
   "outputs": [
    {
     "data": {
      "text/plain": [
       "tensor([[0.3126, 0.3791, 0.3087, 0.0736, 0.4216],\n",
       "        [0.0691, 0.2332, 0.4047, 0.2162, 0.9927],\n",
       "        [0.4128, 0.5938, 0.6128, 0.1519, 0.0453]])"
      ]
     },
     "execution_count": 9,
     "metadata": {},
     "output_type": "execute_result"
    }
   ],
   "source": [
    "torch.manual_seed(1729)\n",
    "random=torch.rand(3,5)\n",
    "random"
   ]
  },
  {
   "cell_type": "code",
   "execution_count": 11,
   "id": "88a2ccad",
   "metadata": {},
   "outputs": [
    {
     "data": {
      "text/plain": [
       "tensor([[[0., 0., 0.],\n",
       "         [0., 0., 0.]],\n",
       "\n",
       "        [[0., 0., 0.],\n",
       "         [0., 0., 0.]]])"
      ]
     },
     "execution_count": 11,
     "metadata": {},
     "output_type": "execute_result"
    }
   ],
   "source": [
    "x=torch.empty(2, 2, 3)\n",
    "x.shape\n",
    "x"
   ]
  },
  {
   "cell_type": "code",
   "execution_count": 12,
   "id": "3b32a265",
   "metadata": {},
   "outputs": [
    {
     "name": "stdout",
     "output_type": "stream",
     "text": [
      "tensor([[[0., 0., 0.],\n",
      "         [0., 0., 0.]],\n",
      "\n",
      "        [[0., 0., 0.],\n",
      "         [0., 0., 0.]]])\n",
      "torch.Size([2, 2, 3])\n"
     ]
    }
   ],
   "source": [
    "empty_like_x=torch.empty_like(x)\n",
    "print(empty_like_x)\n",
    "print(empty_like_x.shape)"
   ]
  },
  {
   "cell_type": "code",
   "execution_count": 13,
   "id": "eea50c15",
   "metadata": {},
   "outputs": [
    {
     "name": "stdout",
     "output_type": "stream",
     "text": [
      "torch.Size([2, 2, 3])\n",
      "tensor([[[0., 0., 0.],\n",
      "         [0., 0., 0.]],\n",
      "\n",
      "        [[0., 0., 0.],\n",
      "         [0., 0., 0.]]])\n"
     ]
    }
   ],
   "source": [
    "zeros_like_x=torch.zeros_like(x)\n",
    "print(zeros_like_x.shape)\n",
    "print(zeros_like_x)"
   ]
  },
  {
   "cell_type": "code",
   "execution_count": 14,
   "id": "00a332ee",
   "metadata": {},
   "outputs": [
    {
     "name": "stdout",
     "output_type": "stream",
     "text": [
      "torch.Size([2, 2, 3])\n",
      "tensor([[[1., 1., 1.],\n",
      "         [1., 1., 1.]],\n",
      "\n",
      "        [[1., 1., 1.],\n",
      "         [1., 1., 1.]]])\n"
     ]
    }
   ],
   "source": [
    "ones_like_x=torch.ones_like(x)\n",
    "print(ones_like_x.shape)\n",
    "print(ones_like_x)"
   ]
  },
  {
   "cell_type": "code",
   "execution_count": 15,
   "id": "f8bd820f",
   "metadata": {},
   "outputs": [
    {
     "name": "stdout",
     "output_type": "stream",
     "text": [
      "torch.Size([2, 2, 3])\n",
      "tensor([[[0.5035, 0.9978, 0.3884],\n",
      "         [0.6929, 0.1703, 0.1384]],\n",
      "\n",
      "        [[0.4759, 0.7481, 0.0361],\n",
      "         [0.5062, 0.8469, 0.2588]]])\n"
     ]
    }
   ],
   "source": [
    "rand_like_x=torch.rand_like(x)\n",
    "print(rand_like_x.shape)\n",
    "print(rand_like_x)"
   ]
  },
  {
   "cell_type": "code",
   "execution_count": 16,
   "id": "f2492a0f",
   "metadata": {},
   "outputs": [
    {
     "name": "stdout",
     "output_type": "stream",
     "text": [
      "tensor([[1, 1, 1],\n",
      "        [1, 1, 1]], dtype=torch.int16)\n"
     ]
    }
   ],
   "source": [
    "a=torch.ones((2, 3), dtype=torch.int16)\n",
    "print(a)"
   ]
  },
  {
   "cell_type": "code",
   "execution_count": 17,
   "id": "984e90d3",
   "metadata": {},
   "outputs": [
    {
     "data": {
      "text/plain": [
       "tensor([[ 3.3046,  9.4177,  1.6821],\n",
       "        [17.7372, 13.2388, 15.9839]], dtype=torch.float64)"
      ]
     },
     "execution_count": 17,
     "metadata": {},
     "output_type": "execute_result"
    }
   ],
   "source": [
    "b=torch.rand((2, 3), dtype=torch.float64)*20\n",
    "b"
   ]
  },
  {
   "cell_type": "code",
   "execution_count": 18,
   "id": "d7002871",
   "metadata": {},
   "outputs": [
    {
     "data": {
      "text/plain": [
       "tensor([[ 3,  9,  1],\n",
       "        [17, 13, 15]], dtype=torch.int32)"
      ]
     },
     "execution_count": 18,
     "metadata": {},
     "output_type": "execute_result"
    }
   ],
   "source": [
    "c=b.to(torch.int32)\n",
    "c"
   ]
  },
  {
   "cell_type": "code",
   "execution_count": 19,
   "id": "695d3ee4",
   "metadata": {},
   "outputs": [],
   "source": [
    "#Arithmetic_with_scalers\n",
    "ones=torch.zeros(2, 2)+1\n",
    "twos=torch.ones(2, 2)*2\n",
    "threes=(torch.ones(2, 2)*7-1)/2\n",
    "fours=twos**2\n",
    "sqrts=twos**0.5"
   ]
  },
  {
   "cell_type": "code",
   "execution_count": 20,
   "id": "9dcbc1cc",
   "metadata": {},
   "outputs": [
    {
     "name": "stdout",
     "output_type": "stream",
     "text": [
      "tensor([[1., 1.],\n",
      "        [1., 1.]])\n",
      "tensor([[2., 2.],\n",
      "        [2., 2.]])\n",
      "tensor([[3., 3.],\n",
      "        [3., 3.]])\n",
      "tensor([[4., 4.],\n",
      "        [4., 4.]])\n",
      "tensor([[1.4142, 1.4142],\n",
      "        [1.4142, 1.4142]])\n"
     ]
    }
   ],
   "source": [
    "print(ones)\n",
    "print(twos)\n",
    "print(threes)\n",
    "print(fours)\n",
    "print(sqrts)"
   ]
  },
  {
   "cell_type": "code",
   "execution_count": 21,
   "id": "e87ba08c",
   "metadata": {},
   "outputs": [
    {
     "name": "stdout",
     "output_type": "stream",
     "text": [
      "tensor([[ 2.,  4.],\n",
      "        [ 8., 16.]])\n"
     ]
    }
   ],
   "source": [
    "#similar_operations_between_two_tensor\n",
    "powers2=twos**torch.tensor([[1, 2], [3, 4]])\n",
    "print(powers2)"
   ]
  },
  {
   "cell_type": "code",
   "execution_count": 22,
   "id": "39f04445",
   "metadata": {},
   "outputs": [
    {
     "name": "stdout",
     "output_type": "stream",
     "text": [
      "tensor([[5., 5.],\n",
      "        [5., 5.]])\n"
     ]
    }
   ],
   "source": [
    "fives=ones+fours\n",
    "print(fives)"
   ]
  },
  {
   "cell_type": "code",
   "execution_count": 23,
   "id": "fab5503d",
   "metadata": {},
   "outputs": [
    {
     "name": "stdout",
     "output_type": "stream",
     "text": [
      "tensor([[12., 12.],\n",
      "        [12., 12.]])\n"
     ]
    }
   ],
   "source": [
    "dozens=threes*fours\n",
    "print(dozens)"
   ]
  },
  {
   "cell_type": "code",
   "execution_count": 25,
   "id": "9f01e90e",
   "metadata": {},
   "outputs": [
    {
     "name": "stdout",
     "output_type": "stream",
     "text": [
      "tensor([[0.4067, 0.7301, 0.6276, 0.7357],\n",
      "        [0.0381, 0.2138, 0.5395, 0.3686]])\n",
      "tensor([[0.8134, 1.4602, 1.2551, 1.4715],\n",
      "        [0.0762, 0.4276, 1.0791, 0.7371]])\n"
     ]
    }
   ],
   "source": [
    "#Tensor_broadcasting\n",
    "rand=torch.rand(2, 4)\n",
    "doubled=rand*(torch.ones(1, 4)*2)\n",
    "print(rand)\n",
    "print(doubled)"
   ]
  },
  {
   "cell_type": "code",
   "execution_count": 27,
   "id": "723a5742",
   "metadata": {},
   "outputs": [
    {
     "name": "stdout",
     "output_type": "stream",
     "text": [
      "tensor([[[0.4007, 0.7220],\n",
      "         [0.8217, 0.2612],\n",
      "         [0.7375, 0.8328]],\n",
      "\n",
      "        [[0.4007, 0.7220],\n",
      "         [0.8217, 0.2612],\n",
      "         [0.7375, 0.8328]],\n",
      "\n",
      "        [[0.4007, 0.7220],\n",
      "         [0.8217, 0.2612],\n",
      "         [0.7375, 0.8328]],\n",
      "\n",
      "        [[0.4007, 0.7220],\n",
      "         [0.8217, 0.2612],\n",
      "         [0.7375, 0.8328]]])\n"
     ]
    }
   ],
   "source": [
    "a=torch.ones(4, 3, 2)\n",
    "b=a*torch.rand( 3, 2)\n",
    "print(b)"
   ]
  },
  {
   "cell_type": "code",
   "execution_count": 28,
   "id": "39ded23f",
   "metadata": {},
   "outputs": [
    {
     "name": "stdout",
     "output_type": "stream",
     "text": [
      "tensor([[0.8444],\n",
      "        [0.2941],\n",
      "        [0.3788]])\n"
     ]
    }
   ],
   "source": [
    "c=torch.rand( 3, 1)\n",
    "print(c)"
   ]
  },
  {
   "cell_type": "code",
   "execution_count": 29,
   "id": "0e669257",
   "metadata": {},
   "outputs": [
    {
     "name": "stdout",
     "output_type": "stream",
     "text": [
      "tensor([[[0.4567, 0.0649],\n",
      "         [0.4567, 0.0649],\n",
      "         [0.4567, 0.0649]],\n",
      "\n",
      "        [[0.4567, 0.0649],\n",
      "         [0.4567, 0.0649],\n",
      "         [0.4567, 0.0649]],\n",
      "\n",
      "        [[0.4567, 0.0649],\n",
      "         [0.4567, 0.0649],\n",
      "         [0.4567, 0.0649]],\n",
      "\n",
      "        [[0.4567, 0.0649],\n",
      "         [0.4567, 0.0649],\n",
      "         [0.4567, 0.0649]]])\n"
     ]
    }
   ],
   "source": [
    "d=a*torch.rand( 1, 2)\n",
    "print(d)"
   ]
  },
  {
   "cell_type": "code",
   "execution_count": 32,
   "id": "769c0c06",
   "metadata": {},
   "outputs": [
    {
     "name": "stdout",
     "output_type": "stream",
     "text": [
      "tensor([[[1., 1.],\n",
      "         [1., 1.],\n",
      "         [1., 1.]],\n",
      "\n",
      "        [[1., 1.],\n",
      "         [1., 1.],\n",
      "         [1., 1.]],\n",
      "\n",
      "        [[1., 1.],\n",
      "         [1., 1.],\n",
      "         [1., 1.]],\n",
      "\n",
      "        [[1., 1.],\n",
      "         [1., 1.],\n",
      "         [1., 1.]]])\n",
      "tensor([[[0.6324, 0.9464],\n",
      "         [0.0113, 0.5183],\n",
      "         [0.9807, 0.6545]],\n",
      "\n",
      "        [[0.6324, 0.9464],\n",
      "         [0.0113, 0.5183],\n",
      "         [0.9807, 0.6545]],\n",
      "\n",
      "        [[0.6324, 0.9464],\n",
      "         [0.0113, 0.5183],\n",
      "         [0.9807, 0.6545]],\n",
      "\n",
      "        [[0.6324, 0.9464],\n",
      "         [0.0113, 0.5183],\n",
      "         [0.9807, 0.6545]]])\n"
     ]
    }
   ],
   "source": [
    "a=torch.ones(4, 3, 2)\n",
    "b=a*torch.rand(  3, 2 )\n",
    "print(a)\n",
    "print(b)"
   ]
  },
  {
   "cell_type": "code",
   "execution_count": 34,
   "id": "5cdbf872",
   "metadata": {},
   "outputs": [
    {
     "name": "stdout",
     "output_type": "stream",
     "text": [
      "tensor([[[0.4922, 0.5461],\n",
      "         [0.5396, 0.3053],\n",
      "         [0.1973, 0.3285]],\n",
      "\n",
      "        [[0.4922, 0.5461],\n",
      "         [0.5396, 0.3053],\n",
      "         [0.1973, 0.3285]],\n",
      "\n",
      "        [[0.4922, 0.5461],\n",
      "         [0.5396, 0.3053],\n",
      "         [0.1973, 0.3285]],\n",
      "\n",
      "        [[0.4922, 0.5461],\n",
      "         [0.5396, 0.3053],\n",
      "         [0.1973, 0.3285]]])\n"
     ]
    }
   ],
   "source": [
    "c=a*torch.rand(  3,2)\n",
    "print(c)"
   ]
  },
  {
   "cell_type": "code",
   "execution_count": 39,
   "id": "57694b85",
   "metadata": {},
   "outputs": [
    {
     "name": "stdout",
     "output_type": "stream",
     "text": [
      "Common Function:\n",
      "tensor([[0.2155, 0.5310, 0.4235, 0.4804],\n",
      "        [0.1066, 0.6997, 0.7201, 0.8560]])\n",
      "tensor([[1., -0., 1., 1.],\n",
      "        [-0., 1., -0., 1.]])\n",
      "tensor([[ 0., -1.,  0.,  0.],\n",
      "        [-1.,  0., -1.,  0.]])\n",
      "tensor([[ 0.2155, -0.5000,  0.4235,  0.4804],\n",
      "        [-0.1066,  0.5000, -0.5000,  0.5000]])\n"
     ]
    }
   ],
   "source": [
    "#common_functions\n",
    "a=torch.rand(2, 4)*2-1\n",
    "print('Common Function:')\n",
    "print(torch.abs(a))\n",
    "print(torch.ceil(a))\n",
    "print(torch.floor(a))\n",
    "print(torch.clamp(a, -0.5, 0.5))"
   ]
  },
  {
   "cell_type": "code",
   "execution_count": 40,
   "id": "b9401adb",
   "metadata": {},
   "outputs": [
    {
     "name": "stdout",
     "output_type": "stream",
     "text": [
      "nsine and arcsine:\n",
      "tensor([0.0000, 0.7854, 1.5708, 2.3562])\n",
      "tensor([0.0000, 0.7071, 1.0000, 0.7071])\n",
      "tensor([0.0000, 0.7854, 1.5708, 0.7854])\n"
     ]
    }
   ],
   "source": [
    "#trigonometric_functions_and_their_inverses\n",
    "angles=torch.tensor([0, math.pi/4, math.pi/2, 3*math.pi/4])\n",
    "sines=torch.sin(angles)\n",
    "inverses=torch.asin(sines)\n",
    "print('nsine and arcsine:')\n",
    "print(angles)\n",
    "print(sines)\n",
    "print(inverses)"
   ]
  },
  {
   "cell_type": "code",
   "execution_count": 41,
   "id": "626e9e63",
   "metadata": {},
   "outputs": [
    {
     "name": "stdout",
     "output_type": "stream",
     "text": [
      "\n",
      "Bitwise XOR:\n",
      "tensor([3, 2, 1])\n"
     ]
    }
   ],
   "source": [
    "#bitwise_operations\n",
    "print('\\nBitwise XOR:')\n",
    "b=torch.tensor([1, 5, 11])\n",
    "c=torch.tensor([2, 7, 10])\n",
    "print(torch.bitwise_xor(b, c))"
   ]
  },
  {
   "cell_type": "code",
   "execution_count": 42,
   "id": "7dbb7632",
   "metadata": {},
   "outputs": [
    {
     "name": "stdout",
     "output_type": "stream",
     "text": [
      "\n",
      "Broadcasted, element wise equality comparisons:\n",
      "tensor([[ True, False],\n",
      "        [False, False]])\n"
     ]
    }
   ],
   "source": [
    "#comparisons:-\n",
    "print('\\nBroadcasted, element wise equality comparisons:')\n",
    "d=torch.tensor([[1., 2.],[3., 4.]])\n",
    "e=torch.ones(1, 2)\n",
    "print(torch.eq(d, e)) #return_a_tensor_of_bool_type"
   ]
  },
  {
   "cell_type": "code",
   "execution_count": 48,
   "id": "077c8559",
   "metadata": {},
   "outputs": [
    {
     "name": "stdout",
     "output_type": "stream",
     "text": [
      "\n",
      "Reduction ops:\n",
      "tensor(4.)\n",
      "4.0\n",
      "tensor(2.5000)\n",
      "tensor(1.2910)\n",
      "tensor(24.)\n",
      "tensor([1, 2])\n"
     ]
    }
   ],
   "source": [
    "#reductions:-\n",
    "print('\\nReduction ops:')\n",
    "print(torch.max(d))\n",
    "print(torch.max(d).item()) #extract_value_from_tensor\n",
    "print(torch.mean(d))\n",
    "print(torch.std(d))\n",
    "print(torch.prod(d))\n",
    "print(torch.unique(torch.tensor([1, 2, 1, 2, 1, 2]))) #filter_unique_elements"
   ]
  },
  {
   "cell_type": "code",
   "execution_count": 51,
   "id": "c6fc9ffe",
   "metadata": {},
   "outputs": [
    {
     "name": "stdout",
     "output_type": "stream",
     "text": [
      "\n",
      "vectors and Matrics:\n",
      "tensor([1., 0., 0.])\n",
      "tensor([[0.1631, 0.7391],\n",
      "        [0.9254, 0.2546]])\n",
      "tensor([ 0.,  0., -1.])\n",
      "tensor([[0.4894, 2.2173],\n",
      "        [2.7763, 0.7638]])\n",
      "torch.return_types.svd(\n",
      "U=tensor([[-0.5211, -0.8535],\n",
      "        [-0.8535,  0.5211]]),\n",
      "S=tensor([3.1867, 1.8144]),\n",
      "V=tensor([[-0.8236,  0.5672],\n",
      "        [-0.5672, -0.8236]]))\n"
     ]
    },
    {
     "name": "stderr",
     "output_type": "stream",
     "text": [
      "/var/folders/cj/0w5hsz6d7hsgpdmwp3dwlw2w0000gn/T/ipykernel_26749/2631559135.py:9: UserWarning: Using torch.cross without specifying the dim arg is deprecated.\n",
      "Please either pass the dim explicitly or simply use torch.linalg.cross.\n",
      "The default value of dim will change to agree with that of linalg.cross in a future release. (Triggered internally at /Users/runner/work/pytorch/pytorch/pytorch/aten/src/ATen/native/Cross.cpp:67.)\n",
      "  print(torch.cross(v2, v1)) #-ve_of_z_unit_vector=-v2Xv1\n"
     ]
    }
   ],
   "source": [
    "#vector_and_linear_algebra_operations\n",
    "v1=torch.tensor([1., 0., 0.])#x_unit_vector\n",
    "v2=torch.tensor([0., 1., 0.])#y_unit_vector\n",
    "m1=torch.rand(2, 2)\n",
    "m2=torch.tensor([[3., 0.],[0., 3.]]) #3-times_identity_matrix\n",
    "print('\\nvectors and Matrics:')\n",
    "print(v1)\n",
    "print(m1)\n",
    "print(torch.cross(v2, v1)) #-ve_of_z_unit_vector=-v2Xv1\n",
    "m3=torch.matmul(m1, m2) #matrix_multiplication\n",
    "print(m3)\n",
    "print(torch.svd(m3))"
   ]
  },
  {
   "cell_type": "code",
   "execution_count": 53,
   "id": "96e81004",
   "metadata": {},
   "outputs": [
    {
     "name": "stdout",
     "output_type": "stream",
     "text": [
      "a:\n",
      "tensor([0.0000, 0.7854, 1.5708, 2.3562])\n",
      "tensor([0.0000, 0.7071, 1.0000, 0.7071])\n",
      "tensor([0.0000, 0.7854, 1.5708, 2.3562])\n"
     ]
    }
   ],
   "source": [
    "a=torch.tensor([0, math.pi/4, math.pi/2, 3*math.pi/4])\n",
    "print('a:')\n",
    "print(a)\n",
    "print(torch.sin(a)) #creates_a_new_tensor_in_memory\n",
    "print(a)"
   ]
  },
  {
   "cell_type": "code",
   "execution_count": 54,
   "id": "8c4f5edb",
   "metadata": {},
   "outputs": [
    {
     "name": "stdout",
     "output_type": "stream",
     "text": [
      "\n",
      "b:\n",
      "tensor([0.0000, 0.7854, 1.5708, 2.3562])\n",
      "tensor([0.0000, 0.7071, 1.0000, 0.7071])\n",
      "tensor([0.0000, 0.7071, 1.0000, 0.7071])\n"
     ]
    }
   ],
   "source": [
    "b=torch.tensor([0, math.pi/4, math.pi/2, 3*math.pi/4])\n",
    "print('\\nb:')\n",
    "print(b)\n",
    "print(torch.sin_(b)) #this_changes_b\n",
    "print(b)"
   ]
  },
  {
   "cell_type": "code",
   "execution_count": 56,
   "id": "0a35ffef",
   "metadata": {},
   "outputs": [
    {
     "name": "stdout",
     "output_type": "stream",
     "text": [
      "before:\n",
      "tensor([[1., 1.],\n",
      "        [1., 1.]])\n",
      "tensor([[0.7992, 0.0554],\n",
      "        [0.5776, 0.9130]])\n",
      "\n",
      "After adding:\n",
      "tensor([[1.7992, 1.0554],\n",
      "        [1.5776, 1.9130]])\n",
      "tensor([[1.7992, 1.0554],\n",
      "        [1.5776, 1.9130]])\n",
      "tensor([[0.7992, 0.0554],\n",
      "        [0.5776, 0.9130]])\n",
      "\n",
      "after Multiplying:\n",
      "tensor([[0.6388, 0.0031],\n",
      "        [0.3336, 0.8335]])\n",
      "tensor([[0.6388, 0.0031],\n",
      "        [0.3336, 0.8335]])\n"
     ]
    }
   ],
   "source": [
    "#for_arithmetic_operations_there_are_functions_that_behave_similarly\n",
    "a=torch.ones(2, 2)\n",
    "b=torch.rand(2, 2)\n",
    "print('before:')\n",
    "print(a)\n",
    "print(b)\n",
    "print('\\nAfter adding:')\n",
    "print(a.add_(b))\n",
    "print(a)\n",
    "print(b)\n",
    "print('\\nafter Multiplying:')\n",
    "print(b.mul_(b))\n",
    "print(b)"
   ]
  },
  {
   "cell_type": "code",
   "execution_count": 57,
   "id": "2c457071",
   "metadata": {},
   "outputs": [
    {
     "name": "stdout",
     "output_type": "stream",
     "text": [
      "Sorry We have CPU only!\n"
     ]
    }
   ],
   "source": [
    "if torch.cuda.is_available():\n",
    "    print('We have a GPU')\n",
    "else:\n",
    "    print('Sorry We have CPU only!')"
   ]
  },
  {
   "cell_type": "code",
   "execution_count": 58,
   "id": "94e05703",
   "metadata": {},
   "outputs": [
    {
     "name": "stdout",
     "output_type": "stream",
     "text": [
      "Sorry!, CPU only\n"
     ]
    }
   ],
   "source": [
    "#get_data_on_targeted_device\n",
    "if torch.cuda.is_available():\n",
    "    gpu_rand=torch.rand(2, 2, device='cuda')\n",
    "    print(gpu_rand)\n",
    "else:\n",
    "    print('Sorry!, CPU only')\n",
    "    "
   ]
  },
  {
   "cell_type": "code",
   "execution_count": 60,
   "id": "b6a0ce2a",
   "metadata": {},
   "outputs": [
    {
     "name": "stdout",
     "output_type": "stream",
     "text": [
      "Device:cpu\n",
      "tensor([[0.2881, 0.2677],\n",
      "        [0.3067, 0.6961]])\n"
     ]
    }
   ],
   "source": [
    "if torch.cuda.is_available():\n",
    "    my_device=torch.device('cuda')\n",
    "else:\n",
    "    my_device=torch.device('cpu')\n",
    "print('Device:{}'.format(my_device))\n",
    "x=torch.rand(2, 2, device=my_device)\n",
    "print(x)"
   ]
  },
  {
   "cell_type": "code",
   "execution_count": 61,
   "id": "f4d8cd3c",
   "metadata": {},
   "outputs": [],
   "source": [
    "#move_tensor_from_one_device_to_another\n",
    "y=torch.rand(2, 2)\n",
    "y=y.to(my_device)"
   ]
  },
  {
   "cell_type": "code",
   "execution_count": 62,
   "id": "16e9a4d8",
   "metadata": {},
   "outputs": [
    {
     "data": {
      "text/plain": [
       "tensor([[0.5406, 0.5028],\n",
       "        [0.0389, 0.1795]])"
      ]
     },
     "execution_count": 62,
     "metadata": {},
     "output_type": "execute_result"
    }
   ],
   "source": [
    "y"
   ]
  }
 ],
 "metadata": {
  "kernelspec": {
   "display_name": "Python 3 (ipykernel)",
   "language": "python",
   "name": "python3"
  },
  "language_info": {
   "codemirror_mode": {
    "name": "ipython",
    "version": 3
   },
   "file_extension": ".py",
   "mimetype": "text/x-python",
   "name": "python",
   "nbconvert_exporter": "python",
   "pygments_lexer": "ipython3",
   "version": "3.11.5"
  }
 },
 "nbformat": 4,
 "nbformat_minor": 5
}
