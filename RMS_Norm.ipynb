{
 "cells": [
  {
   "cell_type": "code",
   "execution_count": 2,
   "id": "54c0631b",
   "metadata": {},
   "outputs": [],
   "source": [
    "from __future__ import absolute_import\n",
    "from __future__ import division\n",
    "from __future__ import print_function"
   ]
  },
  {
   "cell_type": "code",
   "execution_count": 3,
   "id": "8229c700",
   "metadata": {},
   "outputs": [],
   "source": [
    "import torch\n",
    "import torch.nn as nn"
   ]
  },
  {
   "cell_type": "code",
   "execution_count": 4,
   "id": "4748520d",
   "metadata": {},
   "outputs": [],
   "source": [
    "class RMSNorm(nn.Module):\n",
    "    def __init__(self, d, p=-1., eps=1e-8, bias=False):\n",
    "        \"\"\"\n",
    "        Root mean square normalisation\n",
    "        : param d:model size\n",
    "        :param p:partial RMSNorm, valid value[0, 1], default -1.0(disabled)\n",
    "        :param eps:epsilon value, default 1e-8\n",
    "        :param bias:whether use bias term for RMSNorm, disabled by default\n",
    "           because RMSNorm doesn't enforce re-centring invariance.\n",
    "        \"\"\"\n",
    "        super(RMSNorm, self).__init__()\n",
    "        self.eps=eps\n",
    "        self.d=d\n",
    "        self.p=p\n",
    "        self.bias=bias\n",
    "        self.scale=nn.Parameter(torch.ones(d))\n",
    "        self.register_parameter(\"scale\", self.scale)\n",
    "        if self.bias:\n",
    "            self.offset=nn.Parameter(torch.zeros(d))\n",
    "            self.register_parameter(\"offset\", self.offset)\n",
    "    def forward(self, x):\n",
    "        if self.p<0. or self.p>1.:\n",
    "            norm_x=x.norm(2, dim=-1, keepdim=True)\n",
    "            d_x=self.d\n",
    "        else:\n",
    "            partial_size=int(self.d*self.p)\n",
    "            partial_x,_=torch.split(x, [partial_size, self.d-partial_size], dim=-1)\n",
    "            norm_x=partial_x.norm(2, dim=-1, keepdim=True)\n",
    "            d_x=partial_size\n",
    "        rms_x=norm_x*d_x**(-1./2)\n",
    "        x_normed=x/(rms_x+self.eps)\n",
    "        if self.bias:\n",
    "            return self.scale*x_normed+self.offset\n",
    "        return self.scale*x_normed"
   ]
  }
 ],
 "metadata": {
  "kernelspec": {
   "display_name": "Python 3 (ipykernel)",
   "language": "python",
   "name": "python3"
  },
  "language_info": {
   "codemirror_mode": {
    "name": "ipython",
    "version": 3
   },
   "file_extension": ".py",
   "mimetype": "text/x-python",
   "name": "python",
   "nbconvert_exporter": "python",
   "pygments_lexer": "ipython3",
   "version": "3.11.5"
  }
 },
 "nbformat": 4,
 "nbformat_minor": 5
}
