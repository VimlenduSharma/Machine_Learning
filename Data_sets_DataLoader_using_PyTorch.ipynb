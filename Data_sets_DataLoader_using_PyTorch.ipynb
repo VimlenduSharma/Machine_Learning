{
 "cells": [
  {
   "cell_type": "code",
   "execution_count": 14,
   "id": "f276f10a",
   "metadata": {},
   "outputs": [],
   "source": [
    "import torch\n",
    "import torchvision\n",
    "from torch.utils.data import Dataset, DataLoader\n",
    "import numpy as np\n",
    "import math\n",
    "import pandas as pd\n",
    "import numpy as np"
   ]
  },
  {
   "cell_type": "code",
   "execution_count": 24,
   "id": "45bdb79a",
   "metadata": {},
   "outputs": [],
   "source": [
    "class WineDataset(Dataset):\n",
    "    def __init__(self):\n",
    "        xy=pd.read_csv('wine.csv', delimiter=',', dtype=np.float32, skiprows=1)\n",
    "        self.n_samples=xy.shape[0]\n",
    "        xy = xy.to_numpy()\n",
    "        #here_first_column_is_class_label_and_rest_are_features\n",
    "        self.x_data= torch.from_numpy(xy[:,1:]) #size=(n_samples, n_features)\n",
    "        self.y_data=torch.from_numpy(xy[:,[0]]) #size=(n_samples, 1)\n",
    "        \n",
    "    def __getitem__(self, index):\n",
    "        return self.x_data[index], self.y_data[index]\n",
    "    def __len__(self):\n",
    "        return self.n_samples #to_return_the_size"
   ]
  },
  {
   "cell_type": "code",
   "execution_count": 25,
   "id": "146437a0",
   "metadata": {},
   "outputs": [
    {
     "name": "stdout",
     "output_type": "stream",
     "text": [
      "tensor([1.3200e+01, 1.7800e+00, 2.1400e+00, 1.1200e+01, 1.0000e+02, 2.6500e+00,\n",
      "        2.7600e+00, 2.6000e-01, 1.2800e+00, 4.3800e+00, 1.0500e+00, 3.4000e+00,\n",
      "        1.0500e+03]) tensor([1.])\n"
     ]
    }
   ],
   "source": [
    "dataset=WineDataset()\n",
    "first_data=dataset[0]\n",
    "features, labels=first_data\n",
    "print(features, labels)"
   ]
  },
  {
   "cell_type": "code",
   "execution_count": 26,
   "id": "507b2d61",
   "metadata": {},
   "outputs": [],
   "source": [
    "train_loader=DataLoader(dataset=dataset,\n",
    "                       batch_size=4,\n",
    "                       shuffle=True,\n",
    "                       num_workers=0)"
   ]
  },
  {
   "cell_type": "code",
   "execution_count": 29,
   "id": "bc6aa906",
   "metadata": {},
   "outputs": [
    {
     "name": "stdout",
     "output_type": "stream",
     "text": [
      "tensor([[1.3300e+01, 1.7200e+00, 2.1400e+00, 1.7000e+01, 9.4000e+01, 2.4000e+00,\n",
      "         2.1900e+00, 2.7000e-01, 1.3500e+00, 3.9500e+00, 1.0200e+00, 2.7700e+00,\n",
      "         1.2850e+03],\n",
      "        [1.2870e+01, 4.6100e+00, 2.4800e+00, 2.1500e+01, 8.6000e+01, 1.7000e+00,\n",
      "         6.5000e-01, 4.7000e-01, 8.6000e-01, 7.6500e+00, 5.4000e-01, 1.8600e+00,\n",
      "         6.2500e+02],\n",
      "        [1.3050e+01, 1.7300e+00, 2.0400e+00, 1.2400e+01, 9.2000e+01, 2.7200e+00,\n",
      "         3.2700e+00, 1.7000e-01, 2.9100e+00, 7.2000e+00, 1.1200e+00, 2.9100e+00,\n",
      "         1.1500e+03],\n",
      "        [1.2430e+01, 1.5300e+00, 2.2900e+00, 2.1500e+01, 8.6000e+01, 2.7400e+00,\n",
      "         3.1500e+00, 3.9000e-01, 1.7700e+00, 3.9400e+00, 6.9000e-01, 2.8400e+00,\n",
      "         3.5200e+02]]) tensor([[1.],\n",
      "        [3.],\n",
      "        [1.],\n",
      "        [2.]])\n"
     ]
    }
   ],
   "source": [
    "#convert_to_an_iterator_and_look_at_one_random_sample\n",
    "\n",
    "train_loader = torch.utils.data.DataLoader(dataset, batch_size=4, shuffle=True, num_workers=0)\n",
    "\n",
    "\n",
    "dataiter=iter(train_loader)\n",
    "data=next(dataiter)\n",
    "features, labels=data\n",
    "print(features, labels)"
   ]
  },
  {
   "cell_type": "code",
   "execution_count": 30,
   "id": "8fd0c5be",
   "metadata": {},
   "outputs": [
    {
     "name": "stdout",
     "output_type": "stream",
     "text": [
      "177 45\n"
     ]
    }
   ],
   "source": [
    "#Dummy_training_loop\n",
    "\n",
    "num_epochs=2\n",
    "total_samples=len(dataset)\n",
    "n_iterations=math.ceil(total_samples/4)\n",
    "print(total_samples, n_iterations)"
   ]
  },
  {
   "cell_type": "code",
   "execution_count": 33,
   "id": "f991a139",
   "metadata": {},
   "outputs": [
    {
     "name": "stdout",
     "output_type": "stream",
     "text": [
      "Epoch:1/2, step:5/45 | Inputs torch.Size([4, 13]) | labels torch.Size([4, 1])\n",
      "Epoch:1/2, step:10/45 | Inputs torch.Size([4, 13]) | labels torch.Size([4, 1])\n",
      "Epoch:1/2, step:15/45 | Inputs torch.Size([4, 13]) | labels torch.Size([4, 1])\n",
      "Epoch:1/2, step:20/45 | Inputs torch.Size([4, 13]) | labels torch.Size([4, 1])\n",
      "Epoch:1/2, step:25/45 | Inputs torch.Size([4, 13]) | labels torch.Size([4, 1])\n",
      "Epoch:1/2, step:30/45 | Inputs torch.Size([4, 13]) | labels torch.Size([4, 1])\n",
      "Epoch:1/2, step:35/45 | Inputs torch.Size([4, 13]) | labels torch.Size([4, 1])\n",
      "Epoch:1/2, step:40/45 | Inputs torch.Size([4, 13]) | labels torch.Size([4, 1])\n",
      "Epoch:1/2, step:45/45 | Inputs torch.Size([1, 13]) | labels torch.Size([1, 1])\n",
      "Epoch:2/2, step:5/45 | Inputs torch.Size([4, 13]) | labels torch.Size([4, 1])\n",
      "Epoch:2/2, step:10/45 | Inputs torch.Size([4, 13]) | labels torch.Size([4, 1])\n",
      "Epoch:2/2, step:15/45 | Inputs torch.Size([4, 13]) | labels torch.Size([4, 1])\n",
      "Epoch:2/2, step:20/45 | Inputs torch.Size([4, 13]) | labels torch.Size([4, 1])\n",
      "Epoch:2/2, step:25/45 | Inputs torch.Size([4, 13]) | labels torch.Size([4, 1])\n",
      "Epoch:2/2, step:30/45 | Inputs torch.Size([4, 13]) | labels torch.Size([4, 1])\n",
      "Epoch:2/2, step:35/45 | Inputs torch.Size([4, 13]) | labels torch.Size([4, 1])\n",
      "Epoch:2/2, step:40/45 | Inputs torch.Size([4, 13]) | labels torch.Size([4, 1])\n",
      "Epoch:2/2, step:45/45 | Inputs torch.Size([1, 13]) | labels torch.Size([1, 1])\n"
     ]
    }
   ],
   "source": [
    "for epoch in range(num_epochs):\n",
    "    for i, (inputs, labels) in enumerate(train_loader):\n",
    "        \n",
    "        if (i+1)%5==0:\n",
    "            print(f'Epoch:{epoch+1}/{num_epochs}, step:{i+1}/{n_iterations} | Inputs {inputs.shape} | labels {labels.shape}')"
   ]
  },
  {
   "cell_type": "code",
   "execution_count": 34,
   "id": "bc03017c",
   "metadata": {},
   "outputs": [
    {
     "name": "stdout",
     "output_type": "stream",
     "text": [
      "torch.Size([3, 1, 28, 28]) torch.Size([3])\n"
     ]
    }
   ],
   "source": [
    "train_dataset=torchvision.datasets.MNIST(root='./data',\n",
    "                                        train=True,\n",
    "                                        transform=torchvision.transforms.ToTensor(),\n",
    "                                        download=True)\n",
    "train_loader=DataLoader(dataset=train_dataset,\n",
    "                       batch_size=3, shuffle=True)\n",
    "\n",
    "#look-at_one_random_sample\n",
    "dataiter=iter(train_loader)\n",
    "data=next(dataiter)\n",
    "inputs, targets=data\n",
    "print(inputs.shape, targets.shape)"
   ]
  }
 ],
 "metadata": {
  "kernelspec": {
   "display_name": "Python 3 (ipykernel)",
   "language": "python",
   "name": "python3"
  },
  "language_info": {
   "codemirror_mode": {
    "name": "ipython",
    "version": 3
   },
   "file_extension": ".py",
   "mimetype": "text/x-python",
   "name": "python",
   "nbconvert_exporter": "python",
   "pygments_lexer": "ipython3",
   "version": "3.11.5"
  }
 },
 "nbformat": 4,
 "nbformat_minor": 5
}
