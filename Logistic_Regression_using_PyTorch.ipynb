{
 "cells": [
  {
   "cell_type": "code",
   "execution_count": 1,
   "id": "aeadfb45",
   "metadata": {},
   "outputs": [],
   "source": [
    "import torch\n",
    "import torch.nn as nn\n",
    "import numpy as np\n",
    "from sklearn import datasets\n",
    "from sklearn.preprocessing import StandardScaler\n",
    "from sklearn.model_selection import train_test_split"
   ]
  },
  {
   "cell_type": "code",
   "execution_count": 3,
   "id": "2da110ca",
   "metadata": {},
   "outputs": [],
   "source": [
    "bc=datasets.load_breast_cancer()\n",
    "X, y= bc.data, bc.target"
   ]
  },
  {
   "cell_type": "code",
   "execution_count": 4,
   "id": "b5657b41",
   "metadata": {},
   "outputs": [],
   "source": [
    "n_samples, n_features=X.shape"
   ]
  },
  {
   "cell_type": "code",
   "execution_count": 5,
   "id": "91fd94c1",
   "metadata": {},
   "outputs": [],
   "source": [
    "X_train, X_test, y_train, y_test=train_test_split(X, y, test_size=0.2, random_state=1234)"
   ]
  },
  {
   "cell_type": "code",
   "execution_count": 6,
   "id": "327411e7",
   "metadata": {},
   "outputs": [],
   "source": [
    "sc=StandardScaler()\n",
    "X_train=sc.fit_transform(X_train)\n",
    "X_test=sc.transform(X_test)"
   ]
  },
  {
   "cell_type": "code",
   "execution_count": 7,
   "id": "547df6b4",
   "metadata": {},
   "outputs": [],
   "source": [
    "X_train=torch.from_numpy(X_train.astype(np.float32))\n",
    "X_test=torch.from_numpy(X_test.astype(np.float32))\n",
    "y_train=torch.from_numpy(y_train.astype(np.float32))\n",
    "y_test=torch.from_numpy(y_test.astype(np.float32))"
   ]
  },
  {
   "cell_type": "code",
   "execution_count": 9,
   "id": "84a6a743",
   "metadata": {},
   "outputs": [],
   "source": [
    "y_train=y_train.view(y_train.shape[0], 1)\n",
    "y_test=y_test.view(y_test.shape[0], 1)"
   ]
  },
  {
   "cell_type": "code",
   "execution_count": 10,
   "id": "9637b619",
   "metadata": {},
   "outputs": [],
   "source": [
    "class Model(nn.Module):\n",
    "    def __init__(self, n_input_features):\n",
    "        super(Model, self).__init__()\n",
    "        self.linear=nn.Linear(n_input_features, 1)\n",
    "        \n",
    "    def forward(self, x):\n",
    "        y_pred=torch.sigmoid(self.linear(x))\n",
    "        return y_pred\n",
    "model=Model(n_features)\n"
   ]
  },
  {
   "cell_type": "code",
   "execution_count": 14,
   "id": "5d5c6650",
   "metadata": {},
   "outputs": [],
   "source": [
    "num_epochs=100\n",
    "learning_rate=0.01\n",
    "criterion=nn.BCELoss()\n",
    "optimizer=torch.optim.SGD(model.parameters(), lr=learning_rate)\n"
   ]
  },
  {
   "cell_type": "code",
   "execution_count": 15,
   "id": "ca8c26c1",
   "metadata": {},
   "outputs": [
    {
     "name": "stdout",
     "output_type": "stream",
     "text": [
      "epoch:10, loss:0.5538\n",
      "epoch:20, loss:0.4588\n",
      "epoch:30, loss:0.3974\n",
      "epoch:40, loss:0.3548\n",
      "epoch:50, loss:0.3233\n",
      "epoch:60, loss:0.2991\n",
      "epoch:70, loss:0.2797\n",
      "epoch:80, loss:0.2639\n",
      "epoch:90, loss:0.2506\n",
      "epoch:100, loss:0.2393\n",
      "accuracy:0.8772\n"
     ]
    }
   ],
   "source": [
    "#Training_Loop\n",
    "for epoch in range(num_epochs):\n",
    "    y_pred=model(X_train)\n",
    "    loss=criterion(y_pred, y_train)\n",
    "    \n",
    "    loss.backward()\n",
    "    optimizer.step()\n",
    "    \n",
    "    optimizer.zero_grad()\n",
    "    \n",
    "    if (epoch+1)%10==0:\n",
    "        print(f'epoch:{epoch+1}, loss:{loss.item():.4f}')\n",
    "        \n",
    "with torch.no_grad():\n",
    "    y_predicted=model(X_test)\n",
    "    y_predicted_cls=y_predicted.round()\n",
    "    acc=y_predicted_cls.eq(y_test).sum()/float(y_test.shape[0])\n",
    "    print(f'accuracy:{acc.item():.4f}')"
   ]
  }
 ],
 "metadata": {
  "kernelspec": {
   "display_name": "Python 3 (ipykernel)",
   "language": "python",
   "name": "python3"
  },
  "language_info": {
   "codemirror_mode": {
    "name": "ipython",
    "version": 3
   },
   "file_extension": ".py",
   "mimetype": "text/x-python",
   "name": "python",
   "nbconvert_exporter": "python",
   "pygments_lexer": "ipython3",
   "version": "3.11.5"
  }
 },
 "nbformat": 4,
 "nbformat_minor": 5
}
