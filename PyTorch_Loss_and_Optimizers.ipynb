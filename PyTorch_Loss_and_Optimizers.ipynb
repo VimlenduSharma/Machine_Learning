{
 "cells": [
  {
   "cell_type": "code",
   "execution_count": 1,
   "id": "6bcc96c6",
   "metadata": {},
   "outputs": [],
   "source": [
    "import torch\n",
    "import torch.nn as nn"
   ]
  },
  {
   "cell_type": "code",
   "execution_count": 2,
   "id": "3a04117e",
   "metadata": {},
   "outputs": [],
   "source": [
    "X=torch.tensor([1, 2, 3, 4], dtype=torch.float32)\n",
    "Y=torch.tensor([2,4, 6, 8], dtype=torch.float32)"
   ]
  },
  {
   "cell_type": "code",
   "execution_count": 3,
   "id": "47785b0c",
   "metadata": {},
   "outputs": [
    {
     "data": {
      "text/plain": [
       "tensor([1., 2., 3., 4.])"
      ]
     },
     "execution_count": 3,
     "metadata": {},
     "output_type": "execute_result"
    }
   ],
   "source": [
    "X"
   ]
  },
  {
   "cell_type": "code",
   "execution_count": 4,
   "id": "8849fb12",
   "metadata": {},
   "outputs": [],
   "source": [
    "w=torch.tensor(0.0, dtype=torch.float32, requires_grad=True)"
   ]
  },
  {
   "cell_type": "code",
   "execution_count": 6,
   "id": "d3fa639e",
   "metadata": {},
   "outputs": [
    {
     "name": "stdout",
     "output_type": "stream",
     "text": [
      "Prediction before Training:f(5)=0.000\n",
      "epoch 1 :w= tensor(0.3000, requires_grad=True) loss= tensor(30., grad_fn=<MseLossBackward0>)\n",
      "epoch 11 :w= tensor(1.6653, requires_grad=True) loss= tensor(1.1628, grad_fn=<MseLossBackward0>)\n",
      "epoch 21 :w= tensor(1.9341, requires_grad=True) loss= tensor(0.0451, grad_fn=<MseLossBackward0>)\n",
      "epoch 31 :w= tensor(1.9870, requires_grad=True) loss= tensor(0.0017, grad_fn=<MseLossBackward0>)\n",
      "epoch 41 :w= tensor(1.9974, requires_grad=True) loss= tensor(6.7705e-05, grad_fn=<MseLossBackward0>)\n",
      "epoch 51 :w= tensor(1.9995, requires_grad=True) loss= tensor(2.6244e-06, grad_fn=<MseLossBackward0>)\n",
      "epoch 61 :w= tensor(1.9999, requires_grad=True) loss= tensor(1.0176e-07, grad_fn=<MseLossBackward0>)\n",
      "epoch 71 :w= tensor(2.0000, requires_grad=True) loss= tensor(3.9742e-09, grad_fn=<MseLossBackward0>)\n",
      "epoch 81 :w= tensor(2.0000, requires_grad=True) loss= tensor(1.4670e-10, grad_fn=<MseLossBackward0>)\n",
      "epoch 91 :w= tensor(2.0000, requires_grad=True) loss= tensor(5.0768e-12, grad_fn=<MseLossBackward0>)\n",
      "Prediction after training:f(5)=10.000\n"
     ]
    }
   ],
   "source": [
    "def forward(x):\n",
    "    return w*x\n",
    "print(f'Prediction before Training:f(5)={forward(5).item():.3f}')\n",
    "\n",
    "#Define_loss_and_optimizer\n",
    "learning_rate=0.01\n",
    "n_iters=100\n",
    "\n",
    "loss=nn.MSELoss()\n",
    "optimizer=torch.optim.SGD([w], lr=learning_rate)\n",
    "\n",
    "#Training_Loop\n",
    "for epoch in range(n_iters):\n",
    "    y_pred=forward(X)\n",
    "    l=loss(Y, y_pred)\n",
    "    l.backward()\n",
    "    \n",
    "    #update_weights\n",
    "    optimizer.step()\n",
    "    \n",
    "    #Zero_the_gradients_after_updating\n",
    "    optimizer.zero_grad()\n",
    "    \n",
    "    if epoch%10==0:\n",
    "        print('epoch',epoch+1,':w=',w, 'loss=',l)\n",
    "print(f'Prediction after training:f(5)={forward(5).item():.3f}')"
   ]
  },
  {
   "cell_type": "code",
   "execution_count": 10,
   "id": "0b58aef3",
   "metadata": {},
   "outputs": [],
   "source": [
    "#Model_loss_optimizer\n",
    "import torch.nn as nn\n",
    "X=torch.tensor([[1], [2], [3], [4]],dtype=torch.float32)\n",
    "Y=torch.tensor([[2], [4], [6], [8]],dtype=torch.float32)\n"
   ]
  },
  {
   "cell_type": "code",
   "execution_count": 11,
   "id": "9d440d1d",
   "metadata": {},
   "outputs": [
    {
     "data": {
      "text/plain": [
       "tensor([[2.],\n",
       "        [4.],\n",
       "        [6.],\n",
       "        [8.]])"
      ]
     },
     "execution_count": 11,
     "metadata": {},
     "output_type": "execute_result"
    }
   ],
   "source": [
    "X\n",
    "Y"
   ]
  },
  {
   "cell_type": "code",
   "execution_count": 12,
   "id": "d2b0fbbe",
   "metadata": {},
   "outputs": [
    {
     "name": "stdout",
     "output_type": "stream",
     "text": [
      "#samples:4, #features:1\n"
     ]
    }
   ],
   "source": [
    "n_samples, n_features=X.shape\n",
    "print(f'#samples:{n_samples}, #features:{n_features}')"
   ]
  },
  {
   "cell_type": "code",
   "execution_count": 13,
   "id": "1ff96f8b",
   "metadata": {},
   "outputs": [
    {
     "name": "stdout",
     "output_type": "stream",
     "text": [
      "Prediction before Training:f(5)=-1.715\n"
     ]
    }
   ],
   "source": [
    "X_test= torch.tensor([5], dtype=torch.float32)\n",
    "input_size=n_features\n",
    "output_size=n_features\n",
    "model=nn.Linear(input_size, output_size)\n",
    "print(f'Prediction before Training:f(5)={model(X_test).item():.3f}')"
   ]
  },
  {
   "cell_type": "code",
   "execution_count": 14,
   "id": "e70775f0",
   "metadata": {},
   "outputs": [
    {
     "name": "stdout",
     "output_type": "stream",
     "text": [
      "epoch: 1 :w= -0.010334108956158161 loss: 40.77438735961914\n",
      "epoch: 11 :w= 1.4580999612808228 loss: 1.151858925819397\n",
      "epoch: 21 :w= 1.7007514238357544 loss: 0.12108773738145828\n",
      "epoch: 31 :w= 1.7460464239120483 loss: 0.08910594135522842\n",
      "epoch: 41 :w= 1.7594116926193237 loss: 0.08327434957027435\n",
      "epoch: 51 :w= 1.7674615383148193 loss: 0.07841073721647263\n",
      "epoch: 61 :w= 1.774482250213623 loss: 0.07384636253118515\n",
      "epoch: 71 :w= 1.7811682224273682 loss: 0.0695480927824974\n",
      "epoch: 81 :w= 1.7876362800598145 loss: 0.06550002098083496\n",
      "epoch: 91 :w= 1.7939097881317139 loss: 0.06168758124113083\n",
      "Prediction after training:f(5)=9.587\n"
     ]
    }
   ],
   "source": [
    "learning_rate=0.01\n",
    "n_iters=100\n",
    "loss=nn.MSELoss()\n",
    "optimizer= torch.optim.SGD(model.parameters(), lr=learning_rate)\n",
    "\n",
    "for epoch in range(n_iters):\n",
    "    y_pred=model(X)\n",
    "    l=loss(Y, y_pred)\n",
    "    l.backward()\n",
    "    optimizer.step()\n",
    "    \n",
    "    optimizer.zero_grad()\n",
    "    \n",
    "    if epoch%10==0:\n",
    "        [w,b]=model.parameters()\n",
    "        print('epoch:',epoch+1,':w=',w[0][0].item(), 'loss:',l.item())\n",
    "print(f'Prediction after training:f(5)={model(X_test).item():.3f}')"
   ]
  }
 ],
 "metadata": {
  "kernelspec": {
   "display_name": "Python 3 (ipykernel)",
   "language": "python",
   "name": "python3"
  },
  "language_info": {
   "codemirror_mode": {
    "name": "ipython",
    "version": 3
   },
   "file_extension": ".py",
   "mimetype": "text/x-python",
   "name": "python",
   "nbconvert_exporter": "python",
   "pygments_lexer": "ipython3",
   "version": "3.11.5"
  }
 },
 "nbformat": 4,
 "nbformat_minor": 5
}
